{
 "cells": [
  {
   "cell_type": "code",
   "execution_count": 1,
   "id": "4787f2f7-b78a-43fc-85bf-b041372533f6",
   "metadata": {},
   "outputs": [],
   "source": [
    "import pandas as pd\n",
    "import seaborn as sns"
   ]
  },
  {
   "cell_type": "markdown",
   "id": "3d93cc60-5226-4776-af2a-fe673fca037e",
   "metadata": {},
   "source": [
    "# import dataset as csv"
   ]
  },
  {
   "cell_type": "code",
   "execution_count": 2,
   "id": "8c95d72f-9459-45b8-982e-0107839dcf2b",
   "metadata": {},
   "outputs": [
    {
     "data": {
      "text/html": [
       "<div>\n",
       "<style scoped>\n",
       "    .dataframe tbody tr th:only-of-type {\n",
       "        vertical-align: middle;\n",
       "    }\n",
       "\n",
       "    .dataframe tbody tr th {\n",
       "        vertical-align: top;\n",
       "    }\n",
       "\n",
       "    .dataframe thead th {\n",
       "        text-align: right;\n",
       "    }\n",
       "</style>\n",
       "<table border=\"1\" class=\"dataframe\">\n",
       "  <thead>\n",
       "    <tr style=\"text-align: right;\">\n",
       "      <th></th>\n",
       "      <th>id</th>\n",
       "      <th>city</th>\n",
       "      <th>date</th>\n",
       "      <th>player_of_match</th>\n",
       "      <th>venue</th>\n",
       "      <th>neutral_venue</th>\n",
       "      <th>team1</th>\n",
       "      <th>team2</th>\n",
       "      <th>toss_winner</th>\n",
       "      <th>toss_decision</th>\n",
       "      <th>winner</th>\n",
       "      <th>result</th>\n",
       "      <th>result_margin</th>\n",
       "      <th>eliminator</th>\n",
       "      <th>method</th>\n",
       "      <th>umpire1</th>\n",
       "      <th>umpire2</th>\n",
       "    </tr>\n",
       "  </thead>\n",
       "  <tbody>\n",
       "    <tr>\n",
       "      <th>0</th>\n",
       "      <td>335982</td>\n",
       "      <td>Bangalore</td>\n",
       "      <td>2008-04-18</td>\n",
       "      <td>BB McCullum</td>\n",
       "      <td>M Chinnaswamy Stadium</td>\n",
       "      <td>0</td>\n",
       "      <td>Royal Challengers Bangalore</td>\n",
       "      <td>Kolkata Knight Riders</td>\n",
       "      <td>Royal Challengers Bangalore</td>\n",
       "      <td>field</td>\n",
       "      <td>Kolkata Knight Riders</td>\n",
       "      <td>runs</td>\n",
       "      <td>140.0</td>\n",
       "      <td>N</td>\n",
       "      <td>NaN</td>\n",
       "      <td>Asad Rauf</td>\n",
       "      <td>RE Koertzen</td>\n",
       "    </tr>\n",
       "    <tr>\n",
       "      <th>1</th>\n",
       "      <td>335983</td>\n",
       "      <td>Chandigarh</td>\n",
       "      <td>2008-04-19</td>\n",
       "      <td>MEK Hussey</td>\n",
       "      <td>Punjab Cricket Association Stadium, Mohali</td>\n",
       "      <td>0</td>\n",
       "      <td>Kings XI Punjab</td>\n",
       "      <td>Chennai Super Kings</td>\n",
       "      <td>Chennai Super Kings</td>\n",
       "      <td>bat</td>\n",
       "      <td>Chennai Super Kings</td>\n",
       "      <td>runs</td>\n",
       "      <td>33.0</td>\n",
       "      <td>N</td>\n",
       "      <td>NaN</td>\n",
       "      <td>MR Benson</td>\n",
       "      <td>SL Shastri</td>\n",
       "    </tr>\n",
       "    <tr>\n",
       "      <th>2</th>\n",
       "      <td>335984</td>\n",
       "      <td>Delhi</td>\n",
       "      <td>2008-04-19</td>\n",
       "      <td>MF Maharoof</td>\n",
       "      <td>Feroz Shah Kotla</td>\n",
       "      <td>0</td>\n",
       "      <td>Delhi Daredevils</td>\n",
       "      <td>Rajasthan Royals</td>\n",
       "      <td>Rajasthan Royals</td>\n",
       "      <td>bat</td>\n",
       "      <td>Delhi Daredevils</td>\n",
       "      <td>wickets</td>\n",
       "      <td>9.0</td>\n",
       "      <td>N</td>\n",
       "      <td>NaN</td>\n",
       "      <td>Aleem Dar</td>\n",
       "      <td>GA Pratapkumar</td>\n",
       "    </tr>\n",
       "    <tr>\n",
       "      <th>3</th>\n",
       "      <td>335985</td>\n",
       "      <td>Mumbai</td>\n",
       "      <td>2008-04-20</td>\n",
       "      <td>MV Boucher</td>\n",
       "      <td>Wankhede Stadium</td>\n",
       "      <td>0</td>\n",
       "      <td>Mumbai Indians</td>\n",
       "      <td>Royal Challengers Bangalore</td>\n",
       "      <td>Mumbai Indians</td>\n",
       "      <td>bat</td>\n",
       "      <td>Royal Challengers Bangalore</td>\n",
       "      <td>wickets</td>\n",
       "      <td>5.0</td>\n",
       "      <td>N</td>\n",
       "      <td>NaN</td>\n",
       "      <td>SJ Davis</td>\n",
       "      <td>DJ Harper</td>\n",
       "    </tr>\n",
       "    <tr>\n",
       "      <th>4</th>\n",
       "      <td>335986</td>\n",
       "      <td>Kolkata</td>\n",
       "      <td>2008-04-20</td>\n",
       "      <td>DJ Hussey</td>\n",
       "      <td>Eden Gardens</td>\n",
       "      <td>0</td>\n",
       "      <td>Kolkata Knight Riders</td>\n",
       "      <td>Deccan Chargers</td>\n",
       "      <td>Deccan Chargers</td>\n",
       "      <td>bat</td>\n",
       "      <td>Kolkata Knight Riders</td>\n",
       "      <td>wickets</td>\n",
       "      <td>5.0</td>\n",
       "      <td>N</td>\n",
       "      <td>NaN</td>\n",
       "      <td>BF Bowden</td>\n",
       "      <td>K Hariharan</td>\n",
       "    </tr>\n",
       "    <tr>\n",
       "      <th>...</th>\n",
       "      <td>...</td>\n",
       "      <td>...</td>\n",
       "      <td>...</td>\n",
       "      <td>...</td>\n",
       "      <td>...</td>\n",
       "      <td>...</td>\n",
       "      <td>...</td>\n",
       "      <td>...</td>\n",
       "      <td>...</td>\n",
       "      <td>...</td>\n",
       "      <td>...</td>\n",
       "      <td>...</td>\n",
       "      <td>...</td>\n",
       "      <td>...</td>\n",
       "      <td>...</td>\n",
       "      <td>...</td>\n",
       "      <td>...</td>\n",
       "    </tr>\n",
       "    <tr>\n",
       "      <th>811</th>\n",
       "      <td>1216547</td>\n",
       "      <td>Dubai</td>\n",
       "      <td>2020-09-28</td>\n",
       "      <td>AB de Villiers</td>\n",
       "      <td>Dubai International Cricket Stadium</td>\n",
       "      <td>0</td>\n",
       "      <td>Royal Challengers Bangalore</td>\n",
       "      <td>Mumbai Indians</td>\n",
       "      <td>Mumbai Indians</td>\n",
       "      <td>field</td>\n",
       "      <td>Royal Challengers Bangalore</td>\n",
       "      <td>tie</td>\n",
       "      <td>NaN</td>\n",
       "      <td>Y</td>\n",
       "      <td>NaN</td>\n",
       "      <td>Nitin Menon</td>\n",
       "      <td>PR Reiffel</td>\n",
       "    </tr>\n",
       "    <tr>\n",
       "      <th>812</th>\n",
       "      <td>1237177</td>\n",
       "      <td>Dubai</td>\n",
       "      <td>2020-11-05</td>\n",
       "      <td>JJ Bumrah</td>\n",
       "      <td>Dubai International Cricket Stadium</td>\n",
       "      <td>0</td>\n",
       "      <td>Mumbai Indians</td>\n",
       "      <td>Delhi Capitals</td>\n",
       "      <td>Delhi Capitals</td>\n",
       "      <td>field</td>\n",
       "      <td>Mumbai Indians</td>\n",
       "      <td>runs</td>\n",
       "      <td>57.0</td>\n",
       "      <td>N</td>\n",
       "      <td>NaN</td>\n",
       "      <td>CB Gaffaney</td>\n",
       "      <td>Nitin Menon</td>\n",
       "    </tr>\n",
       "    <tr>\n",
       "      <th>813</th>\n",
       "      <td>1237178</td>\n",
       "      <td>Abu Dhabi</td>\n",
       "      <td>2020-11-06</td>\n",
       "      <td>KS Williamson</td>\n",
       "      <td>Sheikh Zayed Stadium</td>\n",
       "      <td>0</td>\n",
       "      <td>Royal Challengers Bangalore</td>\n",
       "      <td>Sunrisers Hyderabad</td>\n",
       "      <td>Sunrisers Hyderabad</td>\n",
       "      <td>field</td>\n",
       "      <td>Sunrisers Hyderabad</td>\n",
       "      <td>wickets</td>\n",
       "      <td>6.0</td>\n",
       "      <td>N</td>\n",
       "      <td>NaN</td>\n",
       "      <td>PR Reiffel</td>\n",
       "      <td>S Ravi</td>\n",
       "    </tr>\n",
       "    <tr>\n",
       "      <th>814</th>\n",
       "      <td>1237180</td>\n",
       "      <td>Abu Dhabi</td>\n",
       "      <td>2020-11-08</td>\n",
       "      <td>MP Stoinis</td>\n",
       "      <td>Sheikh Zayed Stadium</td>\n",
       "      <td>0</td>\n",
       "      <td>Delhi Capitals</td>\n",
       "      <td>Sunrisers Hyderabad</td>\n",
       "      <td>Delhi Capitals</td>\n",
       "      <td>bat</td>\n",
       "      <td>Delhi Capitals</td>\n",
       "      <td>runs</td>\n",
       "      <td>17.0</td>\n",
       "      <td>N</td>\n",
       "      <td>NaN</td>\n",
       "      <td>PR Reiffel</td>\n",
       "      <td>S Ravi</td>\n",
       "    </tr>\n",
       "    <tr>\n",
       "      <th>815</th>\n",
       "      <td>1237181</td>\n",
       "      <td>Dubai</td>\n",
       "      <td>2020-11-10</td>\n",
       "      <td>TA Boult</td>\n",
       "      <td>Dubai International Cricket Stadium</td>\n",
       "      <td>0</td>\n",
       "      <td>Delhi Capitals</td>\n",
       "      <td>Mumbai Indians</td>\n",
       "      <td>Delhi Capitals</td>\n",
       "      <td>bat</td>\n",
       "      <td>Mumbai Indians</td>\n",
       "      <td>wickets</td>\n",
       "      <td>5.0</td>\n",
       "      <td>N</td>\n",
       "      <td>NaN</td>\n",
       "      <td>CB Gaffaney</td>\n",
       "      <td>Nitin Menon</td>\n",
       "    </tr>\n",
       "  </tbody>\n",
       "</table>\n",
       "<p>816 rows × 17 columns</p>\n",
       "</div>"
      ],
      "text/plain": [
       "          id        city        date player_of_match  \\\n",
       "0     335982   Bangalore  2008-04-18     BB McCullum   \n",
       "1     335983  Chandigarh  2008-04-19      MEK Hussey   \n",
       "2     335984       Delhi  2008-04-19     MF Maharoof   \n",
       "3     335985      Mumbai  2008-04-20      MV Boucher   \n",
       "4     335986     Kolkata  2008-04-20       DJ Hussey   \n",
       "..       ...         ...         ...             ...   \n",
       "811  1216547       Dubai  2020-09-28  AB de Villiers   \n",
       "812  1237177       Dubai  2020-11-05       JJ Bumrah   \n",
       "813  1237178   Abu Dhabi  2020-11-06   KS Williamson   \n",
       "814  1237180   Abu Dhabi  2020-11-08      MP Stoinis   \n",
       "815  1237181       Dubai  2020-11-10        TA Boult   \n",
       "\n",
       "                                          venue  neutral_venue  \\\n",
       "0                         M Chinnaswamy Stadium              0   \n",
       "1    Punjab Cricket Association Stadium, Mohali              0   \n",
       "2                              Feroz Shah Kotla              0   \n",
       "3                              Wankhede Stadium              0   \n",
       "4                                  Eden Gardens              0   \n",
       "..                                          ...            ...   \n",
       "811         Dubai International Cricket Stadium              0   \n",
       "812         Dubai International Cricket Stadium              0   \n",
       "813                        Sheikh Zayed Stadium              0   \n",
       "814                        Sheikh Zayed Stadium              0   \n",
       "815         Dubai International Cricket Stadium              0   \n",
       "\n",
       "                           team1                        team2  \\\n",
       "0    Royal Challengers Bangalore        Kolkata Knight Riders   \n",
       "1                Kings XI Punjab          Chennai Super Kings   \n",
       "2               Delhi Daredevils             Rajasthan Royals   \n",
       "3                 Mumbai Indians  Royal Challengers Bangalore   \n",
       "4          Kolkata Knight Riders              Deccan Chargers   \n",
       "..                           ...                          ...   \n",
       "811  Royal Challengers Bangalore               Mumbai Indians   \n",
       "812               Mumbai Indians               Delhi Capitals   \n",
       "813  Royal Challengers Bangalore          Sunrisers Hyderabad   \n",
       "814               Delhi Capitals          Sunrisers Hyderabad   \n",
       "815               Delhi Capitals               Mumbai Indians   \n",
       "\n",
       "                     toss_winner toss_decision                       winner  \\\n",
       "0    Royal Challengers Bangalore         field        Kolkata Knight Riders   \n",
       "1            Chennai Super Kings           bat          Chennai Super Kings   \n",
       "2               Rajasthan Royals           bat             Delhi Daredevils   \n",
       "3                 Mumbai Indians           bat  Royal Challengers Bangalore   \n",
       "4                Deccan Chargers           bat        Kolkata Knight Riders   \n",
       "..                           ...           ...                          ...   \n",
       "811               Mumbai Indians         field  Royal Challengers Bangalore   \n",
       "812               Delhi Capitals         field               Mumbai Indians   \n",
       "813          Sunrisers Hyderabad         field          Sunrisers Hyderabad   \n",
       "814               Delhi Capitals           bat               Delhi Capitals   \n",
       "815               Delhi Capitals           bat               Mumbai Indians   \n",
       "\n",
       "      result  result_margin eliminator method      umpire1         umpire2  \n",
       "0       runs          140.0          N    NaN    Asad Rauf     RE Koertzen  \n",
       "1       runs           33.0          N    NaN    MR Benson      SL Shastri  \n",
       "2    wickets            9.0          N    NaN    Aleem Dar  GA Pratapkumar  \n",
       "3    wickets            5.0          N    NaN     SJ Davis       DJ Harper  \n",
       "4    wickets            5.0          N    NaN    BF Bowden     K Hariharan  \n",
       "..       ...            ...        ...    ...          ...             ...  \n",
       "811      tie            NaN          Y    NaN  Nitin Menon      PR Reiffel  \n",
       "812     runs           57.0          N    NaN  CB Gaffaney     Nitin Menon  \n",
       "813  wickets            6.0          N    NaN   PR Reiffel          S Ravi  \n",
       "814     runs           17.0          N    NaN   PR Reiffel          S Ravi  \n",
       "815  wickets            5.0          N    NaN  CB Gaffaney     Nitin Menon  \n",
       "\n",
       "[816 rows x 17 columns]"
      ]
     },
     "execution_count": 2,
     "metadata": {},
     "output_type": "execute_result"
    }
   ],
   "source": [
    "df = pd.read_csv('matches.csv')\n",
    "df"
   ]
  },
  {
   "cell_type": "code",
   "execution_count": 3,
   "id": "f1823c31",
   "metadata": {},
   "outputs": [
    {
     "data": {
      "text/plain": [
       "(816, 17)"
      ]
     },
     "execution_count": 3,
     "metadata": {},
     "output_type": "execute_result"
    }
   ],
   "source": [
    "df.shape"
   ]
  },
  {
   "cell_type": "markdown",
   "id": "6e8e86d6-3a51-47c8-89b2-ad28669db868",
   "metadata": {},
   "source": [
    "# type(), shape(), info() functions"
   ]
  },
  {
   "cell_type": "code",
   "execution_count": null,
   "id": "5a8a4584-a655-4c08-9fa2-e8ac732e013b",
   "metadata": {},
   "outputs": [],
   "source": [
    "type(df)"
   ]
  },
  {
   "cell_type": "code",
   "execution_count": null,
   "id": "762a7635-8bc8-4775-bf1c-740c0a52c8ca",
   "metadata": {},
   "outputs": [],
   "source": [
    "df_length = len(df) #give how many row in the dataset\n",
    "df_column = len(df.columns)\n",
    "df_length"
   ]
  },
  {
   "cell_type": "code",
   "execution_count": null,
   "id": "3f9801cb-67ff-44e3-9247-d7502d5274b5",
   "metadata": {},
   "outputs": [],
   "source": [
    "df_column"
   ]
  },
  {
   "cell_type": "code",
   "execution_count": null,
   "id": "8e9006aa-2531-4459-a4b0-35a9d71e0a70",
   "metadata": {},
   "outputs": [],
   "source": [
    "df.shape[0] # give the number of row"
   ]
  },
  {
   "cell_type": "code",
   "execution_count": null,
   "id": "131fcaf6-2df6-4bc8-aca8-5e51b1e28514",
   "metadata": {},
   "outputs": [],
   "source": [
    "df.shape[1] # give the number of column"
   ]
  },
  {
   "cell_type": "code",
   "execution_count": null,
   "id": "2b0397c3-660b-4e16-82bc-584f326117a8",
   "metadata": {},
   "outputs": [],
   "source": [
    "df.count()"
   ]
  },
  {
   "cell_type": "code",
   "execution_count": null,
   "id": "011ca7fc-9db7-42fa-bf2d-525d79a5cca2",
   "metadata": {},
   "outputs": [],
   "source": [
    "df.info()"
   ]
  },
  {
   "cell_type": "markdown",
   "id": "e65a9aa0-9c64-4bb1-bdaa-913dc00538c3",
   "metadata": {},
   "source": [
    "# head() function\n",
    "give the top 5 data preview"
   ]
  },
  {
   "cell_type": "code",
   "execution_count": null,
   "id": "5781ad6e-91a4-4e5d-adb3-9a16806740d5",
   "metadata": {},
   "outputs": [],
   "source": [
    "df.head()"
   ]
  },
  {
   "cell_type": "code",
   "execution_count": null,
   "id": "9bc59244-0a56-4b5c-b53a-3098faafa7a8",
   "metadata": {},
   "outputs": [],
   "source": [
    "df.head(8) #give top 8 data preview"
   ]
  },
  {
   "cell_type": "markdown",
   "id": "27511e52-3855-4844-8a30-767cc8e82e05",
   "metadata": {},
   "source": [
    "# tail() function\n",
    "give the last 5 datasets"
   ]
  },
  {
   "cell_type": "code",
   "execution_count": null,
   "id": "2118b8ad-ae79-4461-9a10-06328e05d0e8",
   "metadata": {},
   "outputs": [],
   "source": [
    "df.tail()"
   ]
  },
  {
   "cell_type": "code",
   "execution_count": null,
   "id": "0e53740f-290d-488b-9a1c-456dd1482fe2",
   "metadata": {},
   "outputs": [],
   "source": [
    "df.tail(8) # preview last 8 dataset"
   ]
  },
  {
   "cell_type": "markdown",
   "id": "ee28014b-874e-44a9-9385-a6fcb9add30b",
   "metadata": {},
   "source": [
    "# describe() function\n",
    "works only on numerical values"
   ]
  },
  {
   "cell_type": "code",
   "execution_count": null,
   "id": "15a501b1-e95e-4ed0-811b-c1ba192cbbd4",
   "metadata": {},
   "outputs": [],
   "source": [
    "df.describe()"
   ]
  },
  {
   "cell_type": "markdown",
   "id": "4de52d87-bbf9-4aff-aa79-d5a414bd0864",
   "metadata": {},
   "source": [
    "# fetching column\n",
    "work with specific columns"
   ]
  },
  {
   "cell_type": "code",
   "execution_count": null,
   "id": "66b82100-7497-4f1f-9e03-28e6a4e9d3cc",
   "metadata": {},
   "outputs": [],
   "source": [
    "df['winner'] # type of this dataset is Series."
   ]
  },
  {
   "cell_type": "code",
   "execution_count": null,
   "id": "8f3278c3-e070-4f50-95c6-fcb1133b3366",
   "metadata": {},
   "outputs": [],
   "source": [
    "df[['team1','team2','toss_winner','winner']] #works with multiple columns and type of this dataset is DataFrame."
   ]
  },
  {
   "cell_type": "markdown",
   "id": "b9989c38-dec2-49f7-a6ff-dc2d86bcf59a",
   "metadata": {},
   "source": [
    "# iloc() function\n",
    "fetching rows and columns"
   ]
  },
  {
   "cell_type": "code",
   "execution_count": null,
   "id": "0f7db2c8-d1e9-4096-9956-4042d2b3f631",
   "metadata": {},
   "outputs": [],
   "source": [
    "df.iloc[0] # fetch only sigle row"
   ]
  },
  {
   "cell_type": "code",
   "execution_count": null,
   "id": "ad332daf-6f5e-49ac-8aaf-8471fa493ff8",
   "metadata": {},
   "outputs": [],
   "source": [
    "df.iloc[[1,2,5,7]] # fetch multiple row"
   ]
  },
  {
   "cell_type": "code",
   "execution_count": null,
   "id": "0aa2725a-1143-43f9-8eaf-62952fa74dd8",
   "metadata": {},
   "outputs": [],
   "source": [
    "df.iloc[1:4] # fetch 1-3 rows"
   ]
  },
  {
   "cell_type": "code",
   "execution_count": null,
   "id": "7d2975a3-2f2f-405f-99af-b7a164cd1699",
   "metadata": {},
   "outputs": [],
   "source": [
    "df.iloc[:,10] # fetch only index value=10 column which is winner"
   ]
  },
  {
   "cell_type": "code",
   "execution_count": null,
   "id": "3d9990db-3238-4f47-adfb-330464d55718",
   "metadata": {},
   "outputs": [],
   "source": [
    "df.iloc[:,[6,7,10]] # fetch index 6,7,10 columns"
   ]
  },
  {
   "cell_type": "code",
   "execution_count": null,
   "id": "35ca7938-d90d-40a4-bd57-3751ad6cae92",
   "metadata": {},
   "outputs": [],
   "source": [
    "df.iloc[0:5,[6,7,10]] # fetching multiple rows and columns"
   ]
  },
  {
   "cell_type": "markdown",
   "id": "145d2977-216f-48b4-85bf-3381395bc822",
   "metadata": {},
   "source": [
    "# filtering dataframe on a condition"
   ]
  },
  {
   "cell_type": "code",
   "execution_count": null,
   "id": "125ae3b0-98c3-409c-aaad-72be0a048496",
   "metadata": {},
   "outputs": [],
   "source": [
    "# for one condition\n",
    "mask = df['city'] == 'Kolkata'\n",
    "kolkata = df[mask]\n",
    "kolkata"
   ]
  },
  {
   "cell_type": "code",
   "execution_count": null,
   "id": "6b0c94cc-d5db-4025-92da-ea5b240fc3a3",
   "metadata": {},
   "outputs": [],
   "source": [
    "# for multiple condition\n",
    "mask1 = df['city'] == 'Kolkata'\n",
    "mask2 = df['toss_winner'] == 'Kolkata Knight Riders'\n",
    "mask3 = df['date'] > '2018-01-01'\n",
    "kolkata1 = df[mask1 & mask2 & mask3]\n",
    "kolkata1"
   ]
  },
  {
   "cell_type": "code",
   "execution_count": null,
   "id": "68c0005a-b689-4879-ab6f-9b8c9d2b9311",
   "metadata": {},
   "outputs": [],
   "source": [
    "# create a function for winnnig condition\n",
    "def win(winner):\n",
    "    mask = df['winner'] == winner\n",
    "    return df[mask]\n",
    "    \n",
    "win('Royal Challengers Bangalore')"
   ]
  },
  {
   "cell_type": "markdown",
   "id": "cf1a5865-2dc6-4938-86cc-762ed0d0173d",
   "metadata": {},
   "source": [
    "# value_counts() function\n",
    "works on catagorical data"
   ]
  },
  {
   "cell_type": "code",
   "execution_count": null,
   "id": "e32ff36b-2d3a-47e0-af05-21480258b719",
   "metadata": {},
   "outputs": [],
   "source": [
    "df['winner'].value_counts()"
   ]
  },
  {
   "cell_type": "code",
   "execution_count": null,
   "id": "fa52a01a-79a9-4c5a-8ebb-20d15e850119",
   "metadata": {},
   "outputs": [],
   "source": [
    "# which team played most matches\n",
    "(df['team1'].value_counts() + df['team2'].value_counts()).sort_values(ascending=0) # appling sort function\n"
   ]
  },
  {
   "cell_type": "markdown",
   "id": "d246cfee-6b41-44f1-bd24-ac9e7966b2db",
   "metadata": {},
   "source": [
    "# drop_duplicates() function"
   ]
  },
  {
   "cell_type": "code",
   "execution_count": null,
   "id": "3cb221ed-4993-4a6b-a9ab-565d13ffe8fe",
   "metadata": {},
   "outputs": [],
   "source": [
    "# find every season winning team\n",
    "df[['city','winner']].drop_duplicates()"
   ]
  },
  {
   "cell_type": "markdown",
   "id": "5f5ef4f4-298b-4a3b-83dd-935b04e0e25b",
   "metadata": {},
   "source": [
    "# groupby() function"
   ]
  },
  {
   "cell_type": "code",
   "execution_count": null,
   "id": "34442d3a-72d1-4cc9-b354-442034a61c42",
   "metadata": {},
   "outputs": [],
   "source": [
    "df1 = pd.read_csv('Fortune500.csv', encoding='cp1252') # use encoding='cp1252' for remove error\n",
    "df1.head()"
   ]
  },
  {
   "cell_type": "code",
   "execution_count": null,
   "id": "4d6e32dd-1bf0-46e3-938d-e481d94ca8b4",
   "metadata": {},
   "outputs": [],
   "source": [
    "winner = df.groupby('winner')"
   ]
  },
  {
   "cell_type": "code",
   "execution_count": null,
   "id": "c8d79fab-e199-49f0-9759-c3252a8fc377",
   "metadata": {},
   "outputs": [],
   "source": [
    "winner.size().sort_values(ascending=0)"
   ]
  },
  {
   "cell_type": "code",
   "execution_count": null,
   "id": "9bceb0ff-dd04-4f40-86a6-256e01fe2c46",
   "metadata": {},
   "outputs": [],
   "source": [
    "winner.first() # give each team first winning data"
   ]
  },
  {
   "cell_type": "code",
   "execution_count": null,
   "id": "84444a84-244b-4273-babd-34656f26ec94",
   "metadata": {},
   "outputs": [],
   "source": [
    "winner.last() # give each team last winning data"
   ]
  },
  {
   "cell_type": "code",
   "execution_count": null,
   "id": "a3dec38c-996f-48fe-b095-32705e7379a1",
   "metadata": {},
   "outputs": [],
   "source": [
    "winner.groups # give each team winning index as dictionary"
   ]
  },
  {
   "cell_type": "code",
   "execution_count": null,
   "id": "74fd5ef6-162e-4fd4-9766-f4b9540a363c",
   "metadata": {},
   "outputs": [],
   "source": [
    "mi = winner.get_group('Mumbai Indians').groupby('toss_decision') # mumbai indians winning data by taking bat first.\n",
    "bat_first = mi.get_group('bat').shape[0]\n",
    "field_first = mi.get_group('field').shape[0]\n",
    "match_played = df.groupby('team1').get_group('Mumbai Indians').shape[0] + df.groupby('team2').get_group('Mumbai Indians').shape[0]\n",
    "# winning percentage:\n",
    "b_percent = (bat_first/match_played)*100 # percentage taking bat_first\n",
    "f_percent1 = 100 - b_percent"
   ]
  },
  {
   "cell_type": "code",
   "execution_count": null,
   "id": "3206c8cc-d342-4a8d-999c-0980c942c898",
   "metadata": {},
   "outputs": [],
   "source": [
    "b_percent"
   ]
  },
  {
   "cell_type": "code",
   "execution_count": null,
   "id": "5dfc96b9-d8d0-4ddf-a440-90058c2d163c",
   "metadata": {},
   "outputs": [],
   "source": [
    "f_percent1"
   ]
  },
  {
   "cell_type": "code",
   "execution_count": null,
   "id": "0bbe58dc-2c60-43d2-bf20-7583d2662548",
   "metadata": {},
   "outputs": [],
   "source": [
    "df2 = pd.read_csv('deliveries.csv')\n",
    "df2.head()"
   ]
  },
  {
   "cell_type": "code",
   "execution_count": null,
   "id": "6e31bd5c-0f2b-4d0c-a7b5-166ef23234a5",
   "metadata": {},
   "outputs": [],
   "source": [
    "#top 5 batsman in terms of scores:\n",
    "runs = df2.groupby('batsman')\n",
    "runs['batsman_runs'].sum().sort_values(ascending=0).head()"
   ]
  },
  {
   "cell_type": "code",
   "execution_count": null,
   "id": "64b271f0-5a68-4c63-9e9b-fe5b718a1445",
   "metadata": {},
   "outputs": [],
   "source": [
    "#top 5 batsman in terms of hitting 4:\n",
    "mask1 = df2['batsman_runs'] == 4\n",
    "df3 = df2[mask1]\n",
    "four_runs = df3.groupby('batsman')\n",
    "four_runs['batsman_runs'].count().sort_values(ascending=0).head() # can be us size() insread of count()"
   ]
  },
  {
   "cell_type": "code",
   "execution_count": null,
   "id": "4fb39f61-95d2-489e-a46d-84bf5d6c5f84",
   "metadata": {},
   "outputs": [],
   "source": [
    "# V Kohli most runs against ipl team\n",
    "mask = df2['batsman'] == 'V Kohli'\n",
    "vk = df2[mask].groupby('bowling_team')['batsman_runs'].sum().sort_values(ascending=0)"
   ]
  },
  {
   "cell_type": "code",
   "execution_count": null,
   "id": "aa0f3c74-8c94-45b4-a2e4-3c9cb45bb511",
   "metadata": {},
   "outputs": [],
   "source": [
    "vk"
   ]
  },
  {
   "cell_type": "markdown",
   "id": "54c17035-f6d5-454a-93f6-b7ddb23d35e7",
   "metadata": {},
   "source": [
    "# merge() function"
   ]
  },
  {
   "cell_type": "code",
   "execution_count": null,
   "id": "e6460b82-e389-4aeb-acd1-e6972146f66d",
   "metadata": {},
   "outputs": [],
   "source": [
    "#merge function use for merge two dataset\n",
    "df2.merge(df,left_on='match_id',right_on='id',how='inner')"
   ]
  },
  {
   "cell_type": "markdown",
   "id": "611a9727-12ae-488a-9b5f-e20842cf489a",
   "metadata": {},
   "source": [
    "# corr() function"
   ]
  },
  {
   "cell_type": "code",
   "execution_count": null,
   "id": "4f3c95c7-ceaf-4615-90ab-c8ca4c00463a",
   "metadata": {},
   "outputs": [],
   "source": [
    "df2.corr(numeric_only=True)"
   ]
  },
  {
   "cell_type": "code",
   "execution_count": null,
   "id": "37c25fbd-0f88-4caa-8d81-b30fbb3e5937",
   "metadata": {},
   "outputs": [],
   "source": [
    "sns.heatmap(df2.corr(numeric_only=True))"
   ]
  },
  {
   "cell_type": "markdown",
   "id": "5665014d-2a75-4fb6-b8f1-94eab4911b81",
   "metadata": {},
   "source": [
    "# rename() function"
   ]
  },
  {
   "cell_type": "code",
   "execution_count": null,
   "id": "1a6a3c16-7f6b-4120-a318-b94040867b86",
   "metadata": {},
   "outputs": [],
   "source": [
    "# use for rename any column or row\n",
    "df.rename(columns={'city':'place','venue':'stadium'})"
   ]
  },
  {
   "cell_type": "code",
   "execution_count": null,
   "id": "d254fb72-60b3-4ebb-877f-6dc4f096f0d6",
   "metadata": {},
   "outputs": [],
   "source": []
  }
 ],
 "metadata": {
  "kernelspec": {
   "display_name": "Python 3 (ipykernel)",
   "language": "python",
   "name": "python3"
  },
  "language_info": {
   "codemirror_mode": {
    "name": "ipython",
    "version": 3
   },
   "file_extension": ".py",
   "mimetype": "text/x-python",
   "name": "python",
   "nbconvert_exporter": "python",
   "pygments_lexer": "ipython3",
   "version": "3.11.5"
  }
 },
 "nbformat": 4,
 "nbformat_minor": 5
}
