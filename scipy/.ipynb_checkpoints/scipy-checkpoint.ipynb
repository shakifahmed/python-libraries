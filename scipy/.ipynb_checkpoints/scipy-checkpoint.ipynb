{
 "cells": [
  {
   "cell_type": "markdown",
   "id": "15a46a5c",
   "metadata": {},
   "source": [
    "# Optimizers\n",
    "Optimizers are a set of procedures defined in SciPy that either find the minimum value of a function, or the root of an equation."
   ]
  },
  {
   "cell_type": "code",
   "execution_count": 93,
   "id": "adb51248",
   "metadata": {},
   "outputs": [
    {
     "name": "stdout",
     "output_type": "stream",
     "text": [
      "x = [5.99999969] y = -15.9999999999999\n"
     ]
    },
    {
     "data": {
      "image/png": "[encoded data removed]",
      "text/plain": [
       "<Figure size 640x480 with 1 Axes>"
      ]
     },
     "metadata": {},
     "output_type": "display_data"
    }
   ],
   "source": [
    "from scipy.optimize import minimize\n",
    "import matplotlib.pyplot as plt\n",
    "import math\n",
    "from numpy import *\n",
    "\n",
    "def func(x):     \n",
    "    return x**2 - 12*x + 20\n",
    "x1 = list(linspace(1,11,100))\n",
    "y1 = [func(i) for i in x1]\n",
    "a = minimize(func,0)\n",
    "print(f\"x = {a.x} y = {a.fun}\")\n",
    "x = a.x\n",
    "y = a.fun\n",
    "plt.plot(x1,y1)\n",
    "plt.plot(x,y,'o')\n",
    "plt.title(\"x vs y\")\n",
    "plt.show()"
   ]
  },
  {
   "cell_type": "markdown",
   "id": "45586d7d",
   "metadata": {},
   "source": [
    "# Sparse Data\n",
    "Sparse data is data that has mostly unused elements (elements that don't carry any information )"
   ]
  },
  {
   "cell_type": "code",
   "execution_count": 3,
   "id": "66044b5a",
   "metadata": {},
   "outputs": [
    {
     "name": "stdout",
     "output_type": "stream",
     "text": [
      "  (0, 4)\t1\n",
      "  (0, 7)\t4\n",
      "  (0, 9)\t2\n",
      "  (0, 12)\t5\n"
     ]
    }
   ],
   "source": [
    "from numpy import *\n",
    "from scipy.sparse import csr_matrix\n",
    "\n",
    "a = array([0,0,0,0,1,0,0,4,0,2,0,0,5])\n",
    "print(csr_matrix(a))"
   ]
  },
  {
   "cell_type": "code",
   "execution_count": 24,
   "id": "1fc1f21a",
   "metadata": {},
   "outputs": [
    {
     "name": "stdout",
     "output_type": "stream",
     "text": [
      "non zero elements: 6\n",
      "  (1, 1)\t1\n",
      "  (1, 2)\t2\n",
      "  (2, 1)\t4\n",
      "  (2, 2)\t5\n",
      "  (2, 3)\t6\n",
      "  (3, 3)\t9\n",
      "[[0 0 0 0]\n",
      " [0 1 2 0]\n",
      " [0 4 5 6]\n",
      " [0 0 0 9]]\n"
     ]
    },
    {
     "data": {
      "text/plain": [
       "array([[1, 2],\n",
       "       [4, 5],\n",
       "       [6, 9]], dtype=int32)"
      ]
     },
     "execution_count": 24,
     "metadata": {},
     "output_type": "execute_result"
    }
   ],
   "source": [
    "a = array([0,0,0,0,0,1,2,0,0,4,5,6,0,0,0,9])\n",
    "print('non zero elements:',csr_matrix(b).count_nonzero())\n",
    "b = a.reshape(4,4)\n",
    "print(csr_matrix(b))\n",
    "c = csr_matrix(a).data\n",
    "print(b)\n",
    "c.reshape(3,2)\n"
   ]
  },
  {
   "cell_type": "code",
   "execution_count": 38,
   "id": "1b01ae28",
   "metadata": {},
   "outputs": [
    {
     "name": "stdout",
     "output_type": "stream",
     "text": [
      "  (0, 5)\t1\n",
      "  (0, 6)\t2\n",
      "  (0, 9)\t4\n",
      "  (0, 10)\t5\n",
      "  (0, 11)\t6\n",
      "  (0, 15)\t9 \n",
      "\n",
      "  (0, 5)\t1\n",
      "  (0, 6)\t2\n",
      "  (0, 9)\t4\n",
      "  (0, 10)\t5\n",
      "  (0, 11)\t6\n",
      "  (0, 15)\t9\n"
     ]
    }
   ],
   "source": [
    "a = array([0,0,0,0,0,1,2,0,0,4,5,6,0,0,0,9])\n",
    "print(csr_matrix(a),'\\n')\n",
    "print(csr_matrix(a).tocsc())"
   ]
  },
  {
   "cell_type": "code",
   "execution_count": 64,
   "id": "b5fd0284",
   "metadata": {},
   "outputs": [
    {
     "name": "stdout",
     "output_type": "stream",
     "text": [
      "[1, 2, 3, 4, 5, 6, 7, 8, 9, 10]\n",
      "55\n"
     ]
    }
   ],
   "source": [
    "sum = 0\n",
    "a = list(range(1,11))\n",
    "print(a)\n",
    "for i in a:\n",
    "    sum = sum+i\n",
    "print(sum)"
   ]
  },
  {
   "cell_type": "code",
   "execution_count": 70,
   "id": "1896fd99",
   "metadata": {},
   "outputs": [
    {
     "name": "stdout",
     "output_type": "stream",
     "text": [
      "[1, 4, 9, 16, 25]\n"
     ]
    }
   ],
   "source": [
    "def func(x):\n",
    "        return x**2\n",
    "x = [1,2,3,4,5]\n",
    "a = [func(i) for i in x]\n",
    "print(a)\n",
    "    "
   ]
  },
  {
   "cell_type": "code",
   "execution_count": null,
   "id": "c69b0270",
   "metadata": {},
   "outputs": [],
   "source": []
  },
  {
   "cell_type": "code",
   "execution_count": null,
   "id": "244ff56d",
   "metadata": {},
   "outputs": [],
   "source": []
  }
 ],
 "metadata": {
  "kernelspec": {
   "display_name": "Python 3 (ipykernel)",
   "language": "python",
   "name": "python3"
  },
  "language_info": {
   "codemirror_mode": {
    "name": "ipython",
    "version": 3
   },
   "file_extension": ".py",
   "mimetype": "text/x-python",
   "name": "python",
   "nbconvert_exporter": "python",
   "pygments_lexer": "ipython3",
   "version": "3.10.10"
  },
  "varInspector": {
   "cols": {
    "lenName": 16,
    "lenType": 16,
    "lenVar": 40
   },
   "kernels_config": {
    "python": {
     "delete_cmd_postfix": "",
     "delete_cmd_prefix": "del ",
     "library": "var_list.py",
     "varRefreshCmd": "print(var_dic_list())"
    },
    "r": {
     "delete_cmd_postfix": ") ",
     "delete_cmd_prefix": "rm(",
     "library": "var_list.r",
     "varRefreshCmd": "cat(var_dic_list()) "
    }
   },
   "types_to_exclude": [
    "module",
    "function",
    "builtin_function_or_method",
    "instance",
    "_Feature"
   ],
   "window_display": false
  }
 },
 "nbformat": 4,
 "nbformat_minor": 5
}
